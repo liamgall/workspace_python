{
 "cells": [
  {
   "cell_type": "code",
   "execution_count": 1,
   "metadata": {
    "collapsed": true
   },
   "outputs": [],
   "source": [
    "#-*- encoding: utf-8 -*-\n",
    "#실시간 검색어\n",
    "import requests as rs\n",
    "import bs4\n",
    "import time\n",
    "import msvcrt"
   ]
  },
  {
   "cell_type": "code",
   "execution_count": null,
   "metadata": {
    "collapsed": true
   },
   "outputs": [],
   "source": [
    "def getTopRank():\n",
    "    naver_url = 'http://www.naver.com'\n",
    "    #1)요청\n",
    "    response = rs.get(naver_url)\n",
    "\n",
    "    #2)응답으로 부터 HTML 추출\n",
    "    html_content = response.text.encode(response.encoding);\n",
    "\n",
    "    #3)HTML 파싱\n",
    "    navigator = bs4.BeautifulSoup(html_content)\n",
    "\n",
    "    #4)네비게이터를 이용해 원하는 태그 리스트 가져오기\n",
    "    realRankTag = navigator.find_all(id='realrank')\n",
    "    resultList = realRankTag[0].find_all('a')\n",
    "\n",
    "\n",
    "    #5)키워드 추출\n",
    "    keywords = [item['title'] for item in resultList]\n",
    "\n",
    "    print '============='\n",
    "    print time.ctime()\n",
    "    print ''\n",
    "\n",
    "    #6)키워드 출력\n",
    "    for index, keyword in enumerate(keywords):\n",
    "        resultText = '[%d위] %s'%(index,keyword.encode('utf-8'))\n",
    "        print resultText.decode('utf-8').encode('utf-8')\n",
    "\n",
    "    print ''\n",
    "\n",
    "daemon_flag = True;\n",
    "def Daemon():\n",
    "    while (daemon_flag):\n",
    "        if(msvcrt.)d\n",
    "        getTopRank();\n",
    "        time.sleep(5)\n",
    "\n",
    "if __name__ == '__main__':\n",
    "    Daemon()"
   ]
  }
 ],
 "metadata": {
  "kernelspec": {
   "display_name": "Python [Root]",
   "language": "python",
   "name": "Python [Root]"
  },
  "language_info": {
   "codemirror_mode": {
    "name": "ipython",
    "version": 2
   },
   "file_extension": ".py",
   "mimetype": "text/x-python",
   "name": "python",
   "nbconvert_exporter": "python",
   "pygments_lexer": "ipython2",
   "version": "2.7.12"
  }
 },
 "nbformat": 4,
 "nbformat_minor": 0
}
